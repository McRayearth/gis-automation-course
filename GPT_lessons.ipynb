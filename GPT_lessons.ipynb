{
 "cells": [
  {
   "cell_type": "code",
   "execution_count": 4,
   "id": "72691231",
   "metadata": {},
   "outputs": [
    {
     "name": "stdout",
     "output_type": "stream",
     "text": [
      "hello from vs Code notebook!\n",
      "this is a zoning layer.\n",
      "this is a zone layer.\n",
      "protected_area is not a zone layer\n",
      "roads_main is not a zone layer\n",
      "processing one feature...\n",
      "processing one feature...\n",
      "processing one feature...\n"
     ]
    }
   ],
   "source": [
    "print(\"hello from vs Code notebook!\")\n",
    "\n",
    "#if statement\n",
    "layer_name = \"urban_zone_2023\"\n",
    "if \"zone\" in layer_name.lower():\n",
    "    print(\"this is a zoning layer.\")\n",
    "\n",
    "#for statement\n",
    "layers = [\"urban_zone_2023\", \"protected_area\", \"roads_main\"]\n",
    "for layer in layers: \n",
    "    if \"zone\" in layer.lower():\n",
    "        print(\"this is a zone layer.\")\n",
    "    else:\n",
    "        print(f\"{layer} is not a zone layer\")\n",
    "\n",
    "#While loop conditon\n",
    "feature_to_process = 3\n",
    "while feature_to_process > 0: \n",
    "    print(\"processing one feature...\")\n",
    "    feature_to_process -= 1\n",
    "    "
   ]
  },
  {
   "cell_type": "markdown",
   "id": "b67fce00",
   "metadata": {},
   "source": []
  },
  {
   "cell_type": "code",
   "execution_count": 5,
   "id": "64f74a9f",
   "metadata": {},
   "outputs": [
    {
     "ename": "SyntaxError",
     "evalue": "cannot assign to literal (2791258010.py, line 4)",
     "output_type": "error",
     "traceback": [
      "  \u001b[36mCell\u001b[39m\u001b[36m \u001b[39m\u001b[32mIn[5]\u001b[39m\u001b[32m, line 4\u001b[39m\n\u001b[31m    \u001b[39m\u001b[31mfor \"area\" in layers:\u001b[39m\n        ^\n\u001b[31mSyntaxError\u001b[39m\u001b[31m:\u001b[39m cannot assign to literal\n"
     ]
    }
   ],
   "source": [
    "#excercise 1\n",
    "\n",
    "layers = [\"urban_zone_2023\", \"protected_area\", \"roads_main\",\"area\"]\n",
    "for \"area\" in layers:\n",
    "    if \"area\" in layers:\n",
    "    print(\"Area found\")\n",
    "    else:\n",
    "    print(\"No area here\")\n"
   ]
  },
  {
   "cell_type": "code",
   "execution_count": 4,
   "id": "fe7f1903",
   "metadata": {},
   "outputs": [
    {
     "name": "stdout",
     "output_type": "stream",
     "text": [
      "protected\n"
     ]
    }
   ],
   "source": [
    "#exercise 2\n",
    "layers = [\"urban_zone_2023\", \"protected_area\", \"roads_main\",\"area\"]\n",
    "if \"urban\" in layers:\n",
    "    print(\"urban found\")\n",
    "else:\n",
    "    print(\"protected\")"
   ]
  },
  {
   "cell_type": "code",
   "execution_count": null,
   "id": "96dde1fb",
   "metadata": {},
   "outputs": [],
   "source": [
    "Add GPT_lessons.ipynb notebook with Day 1 exercises\n"
   ]
  },
  {
   "cell_type": "code",
   "execution_count": 8,
   "id": "a2cf58e1",
   "metadata": {},
   "outputs": [
    {
     "ename": "SyntaxError",
     "evalue": "invalid syntax (3152034424.py, line 9)",
     "output_type": "error",
     "traceback": [
      "  \u001b[36mCell\u001b[39m\u001b[36m \u001b[39m\u001b[32mIn[8]\u001b[39m\u001b[32m, line 9\u001b[39m\n\u001b[31m    \u001b[39m\u001b[31mAdd Exercise 2 notebook logic (urban zone check)\u001b[39m\n        ^\n\u001b[31mSyntaxError\u001b[39m\u001b[31m:\u001b[39m invalid syntax\n"
     ]
    }
   ],
   "source": [
    "layers = [\"urban_trails\", \"roads\", \"coastal_area\"];\n",
    "found_urban = any(\"urban\" in layer for layer in layers)\n",
    "print(found_urban)\n",
    "if found_urban:\n",
    "    print(\"urban found\")\n",
    "else:\n",
    "    print(\"protected\")\n",
    "    \n",
    "Add Exercise 2 notebook logic (urban zone check)\n"
   ]
  },
  {
   "cell_type": "code",
   "execution_count": null,
   "id": "f079cbac",
   "metadata": {},
   "outputs": [
    {
     "name": "stdout",
     "output_type": "stream",
     "text": [
      "urban_zone is a zone layer.\n",
      "coastal_area is an area layer.\n",
      "roads is not a zone or area\n",
      "forests is not a zone or area\n",
      "protected_zone is a zone layer.\n"
     ]
    }
   ],
   "source": [
    "#Exercise 3 frm day 2\n",
    "layers = [\"urban_zone\", \"coastal_area\", \"roads\", \"forests\", \"protected_zone\"]\n",
    "\n",
    "for layer in layers:\n",
    "    if \"zone\" in layer:\n",
    "        print(f\"{layer} is a zone layer.\") # the f allows to format in a cleaner way\n",
    "    elif \"area\" in layer: \n",
    "        print(f\"{layer} is an area layer.\")\n",
    "    else: \n",
    "        print(f\"{layer} is not a zone or area\")\n",
    "        \n",
    "        \n"
   ]
  },
  {
   "cell_type": "code",
   "execution_count": 2,
   "id": "ac842071",
   "metadata": {},
   "outputs": [
    {
     "name": "stdout",
     "output_type": "stream",
     "text": [
      "panthera_onca_range is a big cat.\n",
      "not my cats\n",
      "not my cats\n",
      "leopardus_pardalis_area is a leopardus cat.\n",
      "leopardus_geoffroyi_extent is a leopardus cat.\n",
      "leopardus_wiedii_habitat is a leopardus cat.\n",
      "leopardus_colocolo_region is a leopardus cat.\n",
      "not my cats\n",
      "not my cats\n",
      "leopardus_jacobita_core is a leopardus cat.\n",
      "leopardus_guttulus_patch is a leopardus cat.\n",
      "panthera_onca_corridor is a big cat.\n"
     ]
    }
   ],
   "source": [
    "#exercise 3.2 felines\n",
    "layers = [\n",
    "    \"panthera_onca_range\",       # Jaguar\n",
    "    \"puma_concolor_habitat\",     # Cougar / Mountain Lion\n",
    "    \"lynx_rufus_zones\",          # Bobcat\n",
    "    \"leopardus_pardalis_area\",   # Ocelot\n",
    "    \"leopardus_geoffroyi_extent\",# Geoffroy's Cat\n",
    "    \"leopardus_wiedii_habitat\",  # Margay\n",
    "    \"leopardus_colocolo_region\", # Pampas Cat\n",
    "    \"lynx_canadensis_area\",      # Canada Lynx\n",
    "    \"herpailurus_yagouaroundi_map\", # Jaguarundi\n",
    "    \"leopardus_jacobita_core\",   # Andean Cat\n",
    "    \"leopardus_guttulus_patch\",  # Southern Tiger Cat\n",
    "    \"panthera_onca_corridor\"     # Jaguar corridor restoration\n",
    "]\n",
    "\n",
    "for layer in layers:\n",
    "    if \"dus\" in layer:\n",
    "        print(f\"{layer} is a leopardus cat.\")\n",
    "    elif \"panthera\" in layer:\n",
    "        print(f\"{layer} is a big cat.\")\n",
    "    else:\n",
    "        print(\"not my cats\")"
   ]
  },
  {
   "cell_type": "code",
   "execution_count": 9,
   "id": "56514f79",
   "metadata": {},
   "outputs": [
    {
     "name": "stdout",
     "output_type": "stream",
     "text": [
      "marine_zone_2023 is a marine layer.\n",
      "not a marine layer\n",
      "not a marine layer\n",
      "not a marine layer\n",
      "coral_reef_extent is a marine layer.\n",
      "protected_marine_area is a marine layer.\n",
      "not a marine layer\n",
      "mangrove_coverage is a marine layer.\n",
      "marine_mammals_distribution is a marine layer.\n",
      "marine_zone_2023 is a marine layer.\n",
      "not a marine layer\n",
      "not a marine layer\n",
      "not a marine layer\n",
      "coral_reef_extent is a marine layer.\n",
      "protected_marine_area is a marine layer.\n",
      "not a marine layer\n",
      "mangrove_coverage is a marine layer.\n",
      "marine_mammals_distribution is a marine layer.\n",
      "total marine layers: 5\n"
     ]
    }
   ],
   "source": [
    "#Exercise 4\n",
    "\n",
    "layers = [\n",
    "    \"marine_zone_2023\",\n",
    "    \"coastal_protection\",\n",
    "    \"urban_zone_2020\",\n",
    "    \"roads_major\",\n",
    "    \"coral_reef_extent\",\n",
    "    \"protected_marine_area\",\n",
    "    \"hydrology_network\",\n",
    "    \"mangrove_coverage\",\n",
    "    \"marine_mammals_distribution\"\n",
    "]\n",
    "\n",
    "keyw=[\"marine\", \"reef\", \"mangrove\"]\n",
    "\n",
    "for layer in layers:\n",
    "    if  keyw[0] in layer:\n",
    "        print(f\"{layer} is a marine layer.\")\n",
    "    elif keyw[1] in layer:\n",
    "        print(f\"{layer} is a marine layer.\")\n",
    "    elif keyw[2] in layer:\n",
    "        print(f\"{layer} is a marine layer.\")\n",
    "    else:\n",
    "        print(\"not a marine layer\")\n",
    "        \n",
    "#Exercise 4.2 cleaner version\n",
    "marine_count = 0\n",
    "for layer in layers:\n",
    "    if any(keyword in layer for keyword in keyw):\n",
    "        print(f\"{layer} is a marine layer.\")\n",
    "        marine_count += 1\n",
    "    else:\n",
    "        print(\"not a marine layer\")\n",
    "print(f\"total marine layers: {marine_count}\")"
   ]
  },
  {
   "cell_type": "markdown",
   "id": "3bfa7e55",
   "metadata": {},
   "source": [
    "Day 2 exercise 5"
   ]
  },
  {
   "cell_type": "code",
   "execution_count": null,
   "id": "54d55626",
   "metadata": {},
   "outputs": [
    {
     "name": "stdout",
     "output_type": "stream",
     "text": [
      "marine_zone_2023 still needs analysis.\n",
      "mangrove_coverage still needs analysis.\n",
      "marine_mammals_distribution still needs analysis.\n",
      "marine_zone_2023\n",
      "['marine_zone_2023'] still needs analysis\n",
      "coral_reef_extent\n",
      "['coral_reef_extent'] still needs analysis\n",
      "protected_marine_area\n",
      "['marine_zone_2023', 'protected_marine_area'] still needs analysis\n",
      "mangrove_coverage\n",
      "['mangrove_coverage'] still needs analysis\n",
      "marine_mammals_distribution\n",
      "['marine_zone_2023', 'protected_marine_area', 'marine_mammals_distribution'] still needs analysis\n",
      "None\n"
     ]
    }
   ],
   "source": [
    "#You need to print the marine layers that are missing from the analysis\n",
    "\n",
    "all_layers = [\n",
    "    \"marine_zone_2023\", \"urban_area_2023\", \"roads_main\",\n",
    "    \"coral_reef_extent\", \"protected_marine_area\",\n",
    "    \"mangrove_coverage\", \"marine_mammals_distribution\"\n",
    "]\n",
    "\n",
    "analyzed_layers = [\n",
    "    \"coral_reef_extent\", \"protected_marine_area\"\n",
    "]\n",
    "\n",
    "marine_keywords = [\"marine\", \"reef\", \"mangrove\"]\n",
    "\n",
    "for layer in all_layers:\n",
    "    if any(keyword in layer for keyword in marine_keywords):\n",
    "        if layer not in analyzed_layers:\n",
    "            print(f\"{layer} still needs analysis.\")\n",
    "            \n",
    "#add on exercise create 3 lists \n",
    "groups = {\"Marine Zone\": [],\n",
    "    \"Coral Habitat\": [],\n",
    "    \"Mangrove Area\": []}\n",
    "\n",
    "for layer in all_layers:\n",
    "    if any(keyword in layer for keyword in marine_keywords):\n",
    "        print(layer)\n",
    "        if \"marine\" in layer:\n",
    "            groups[\"Marine Zone\"].append(layer)\n",
    "            print(f\"{groups['Marine Zone']} still needs analysis\")\n",
    "        elif \"coral\" in layer:\n",
    "            groups[\"Coral Habitat\"].append(layer)\n",
    "            print(f\"{groups['Coral Habitat']} still needs analysis\")\n",
    "        elif \"mangrove\" in layer:\n",
    "            groups[ \"Mangrove Area\"].append(layer)\n",
    "            print(f\"{groups['Mangrove Area']} still needs analysis\")\n",
    "# Print the groups  \n",
    "\n",
    "\n"
   ]
  },
  {
   "cell_type": "code",
   "execution_count": null,
   "id": "9f9ed740",
   "metadata": {},
   "outputs": [],
   "source": []
  }
 ],
 "metadata": {
  "kernelspec": {
   "display_name": "Python 3",
   "language": "python",
   "name": "python3"
  },
  "language_info": {
   "codemirror_mode": {
    "name": "ipython",
    "version": 3
   },
   "file_extension": ".py",
   "mimetype": "text/x-python",
   "name": "python",
   "nbconvert_exporter": "python",
   "pygments_lexer": "ipython3",
   "version": "3.11.9"
  }
 },
 "nbformat": 4,
 "nbformat_minor": 5
}
