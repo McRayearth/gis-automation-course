{
 "cells": [
  {
   "cell_type": "code",
   "execution_count": 4,
   "id": "72691231",
   "metadata": {},
   "outputs": [
    {
     "name": "stdout",
     "output_type": "stream",
     "text": [
      "hello from vs Code notebook!\n",
      "this is a zoning layer.\n",
      "this is a zone layer.\n",
      "protected_area is not a zone layer\n",
      "roads_main is not a zone layer\n",
      "processing one feature...\n",
      "processing one feature...\n",
      "processing one feature...\n"
     ]
    }
   ],
   "source": [
    "print(\"hello from vs Code notebook!\")\n",
    "\n",
    "#if statement\n",
    "layer_name = \"urban_zone_2023\"\n",
    "if \"zone\" in layer_name.lower():\n",
    "    print(\"this is a zoning layer.\")\n",
    "\n",
    "#for statement\n",
    "layers = [\"urban_zone_2023\", \"protected_area\", \"roads_main\"]\n",
    "for layer in layers: \n",
    "    if \"zone\" in layer.lower():\n",
    "        print(\"this is a zone layer.\")\n",
    "    else:\n",
    "        print(f\"{layer} is not a zone layer\")\n",
    "\n",
    "#While loop conditon\n",
    "feature_to_process = 3\n",
    "while feature_to_process > 0: \n",
    "    print(\"processing one feature...\")\n",
    "    feature_to_process -= 1\n",
    "    "
   ]
  },
  {
   "cell_type": "markdown",
   "id": "b67fce00",
   "metadata": {},
   "source": []
  },
  {
   "cell_type": "code",
   "execution_count": 5,
   "id": "64f74a9f",
   "metadata": {},
   "outputs": [
    {
     "ename": "SyntaxError",
     "evalue": "cannot assign to literal (2791258010.py, line 4)",
     "output_type": "error",
     "traceback": [
      "  \u001b[36mCell\u001b[39m\u001b[36m \u001b[39m\u001b[32mIn[5]\u001b[39m\u001b[32m, line 4\u001b[39m\n\u001b[31m    \u001b[39m\u001b[31mfor \"area\" in layers:\u001b[39m\n        ^\n\u001b[31mSyntaxError\u001b[39m\u001b[31m:\u001b[39m cannot assign to literal\n"
     ]
    }
   ],
   "source": [
    "#excercise 1\n",
    "\n",
    "layers = [\"urban_zone_2023\", \"protected_area\", \"roads_main\",\"area\"]\n",
    "for \"area\" in layers:\n",
    "    if \"area\" in layers:\n",
    "    print(\"Area found\")\n",
    "    else:\n",
    "    print(\"No area here\")\n"
   ]
  },
  {
   "cell_type": "code",
   "execution_count": 4,
   "id": "fe7f1903",
   "metadata": {},
   "outputs": [
    {
     "name": "stdout",
     "output_type": "stream",
     "text": [
      "protected\n"
     ]
    }
   ],
   "source": [
    "#exercise 2\n",
    "layers = [\"urban_zone_2023\", \"protected_area\", \"roads_main\",\"area\"]\n",
    "if \"urban\" in layers:\n",
    "    print(\"urban found\")\n",
    "else:\n",
    "    print(\"protected\")"
   ]
  },
  {
   "cell_type": "code",
   "execution_count": null,
   "id": "96dde1fb",
   "metadata": {},
   "outputs": [],
   "source": [
    "Add GPT_lessons.ipynb notebook with Day 1 exercises\n"
   ]
  },
  {
   "cell_type": "code",
   "execution_count": 8,
   "id": "a2cf58e1",
   "metadata": {},
   "outputs": [
    {
     "ename": "SyntaxError",
     "evalue": "invalid syntax (3152034424.py, line 9)",
     "output_type": "error",
     "traceback": [
      "  \u001b[36mCell\u001b[39m\u001b[36m \u001b[39m\u001b[32mIn[8]\u001b[39m\u001b[32m, line 9\u001b[39m\n\u001b[31m    \u001b[39m\u001b[31mAdd Exercise 2 notebook logic (urban zone check)\u001b[39m\n        ^\n\u001b[31mSyntaxError\u001b[39m\u001b[31m:\u001b[39m invalid syntax\n"
     ]
    }
   ],
   "source": [
    "layers = [\"urban_trails\", \"roads\", \"coastal_area\"];\n",
    "found_urban = any(\"urban\" in layer for layer in layers)\n",
    "print(found_urban)\n",
    "if found_urban:\n",
    "    print(\"urban found\")\n",
    "else:\n",
    "    print(\"protected\")\n",
    "    \n",
    "Add Exercise 2 notebook logic (urban zone check)\n"
   ]
  }
 ],
 "metadata": {
  "kernelspec": {
   "display_name": "Python 3",
   "language": "python",
   "name": "python3"
  },
  "language_info": {
   "codemirror_mode": {
    "name": "ipython",
    "version": 3
   },
   "file_extension": ".py",
   "mimetype": "text/x-python",
   "name": "python",
   "nbconvert_exporter": "python",
   "pygments_lexer": "ipython3",
   "version": "3.11.9"
  }
 },
 "nbformat": 4,
 "nbformat_minor": 5
}
