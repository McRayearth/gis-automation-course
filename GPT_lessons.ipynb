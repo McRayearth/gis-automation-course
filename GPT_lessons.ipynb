{
 "cells": [
  {
   "cell_type": "code",
   "execution_count": null,
   "id": "72691231",
   "metadata": {},
   "outputs": [
    {
     "name": "stdout",
     "output_type": "stream",
     "text": [
      "hello from vs Code notebook!\n"
     ]
    }
   ],
   "source": [
    "print(\"hello from vs Code notebook!\")\n",
    "\n",
    "#if statement\n",
    "layer_name = \"urban_zone_2023\"\n",
    "if \"zone\" in layer_name.lower():\n",
    "    print(\"this is a zoning layer.\")\n",
    "\n",
    "#for statement\n",
    "layers = [\"urban_zone_2023\", \"protected_area\", \"roads_main\"]\n",
    "for layer in layers: \n",
    "    if \"zone\" in layer.lower():\n",
    "        print(\"this is a zone layer.\")\n",
    "    else:\n",
    "        print(f\"{layer} is not a zone layer\")\n",
    "\n",
    "#While loop conditon\n",
    "feature_to_process = 3\n",
    "while feature_to_process > 0: \n",
    "    print(\"processing one feature...\")\n",
    "    feature_to_process -= 1\n",
    "    "
   ]
  },
  {
   "cell_type": "markdown",
   "id": "b67fce00",
   "metadata": {},
   "source": []
  },
  {
   "cell_type": "code",
   "execution_count": 6,
   "id": "64f74a9f",
   "metadata": {},
   "outputs": [
    {
     "ename": "SyntaxError",
     "evalue": "cannot assign to literal (2791258010.py, line 4)",
     "output_type": "error",
     "traceback": [
      "\u001b[1;36m  Cell \u001b[1;32mIn[6], line 4\u001b[1;36m\u001b[0m\n\u001b[1;33m    for \"area\" in layers:\u001b[0m\n\u001b[1;37m        ^\u001b[0m\n\u001b[1;31mSyntaxError\u001b[0m\u001b[1;31m:\u001b[0m cannot assign to literal\n"
     ]
    }
   ],
   "source": [
    "#excercise 1\n",
    "\n",
    "layers = [\"urban_zone_2023\", \"protected_area\", \"roads_main\",\"area\"]\n",
    "for \"area\" in layers:\n",
    "    if \"area\" in layers:\n",
    "    print(\"Area found\")\n",
    "    else:\n",
    "    print(\"No area here\")\n"
   ]
  },
  {
   "cell_type": "code",
   "execution_count": 4,
   "id": "fe7f1903",
   "metadata": {},
   "outputs": [
    {
     "name": "stdout",
     "output_type": "stream",
     "text": [
      "protected\n"
     ]
    }
   ],
   "source": [
    "#exercise 2\n",
    "layers = [\"urban_zone_2023\", \"protected_area\", \"roads_main\",\"area\"]\n",
    "if \"urban\" in layers:\n",
    "    print(\"urban found\")\n",
    "else:\n",
    "    print(\"protected\")"
   ]
  },
  {
   "cell_type": "code",
   "execution_count": null,
   "id": "96dde1fb",
   "metadata": {},
   "outputs": [],
   "source": [
    "Add GPT_lessons.ipynb notebook with Day 1 exercises\n"
   ]
  }
 ],
 "metadata": {
  "kernelspec": {
   "display_name": "Python 3",
   "language": "python",
   "name": "python3"
  },
  "language_info": {
   "codemirror_mode": {
    "name": "ipython",
    "version": 3
   },
   "file_extension": ".py",
   "mimetype": "text/x-python",
   "name": "python",
   "nbconvert_exporter": "python",
   "pygments_lexer": "ipython3",
   "version": "3.11.10"
  }
 },
 "nbformat": 4,
 "nbformat_minor": 5
}
