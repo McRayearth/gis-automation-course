{
 "cells": [
  {
   "cell_type": "code",
   "execution_count": 2,
   "id": "52cb41cd",
   "metadata": {},
   "outputs": [
    {
     "name": "stdout",
     "output_type": "stream",
     "text": [
      "    name  total_spent\n",
      "0  Alice          350\n",
      "1    Bob          350\n",
      "2  Clara          100\n"
     ]
    }
   ],
   "source": [
    "import sqlite3\n",
    "import pandas as pd\n",
    "\n",
    "# Connect to in-memory database (or use a file with \"sqlite:///mydb.sqlite\")\n",
    "conn = sqlite3.connect(\":memory:\")\n",
    "cur = conn.cursor()\n",
    "\n",
    "# Create tables\n",
    "cur.execute(\"CREATE TABLE customers (id INTEGER PRIMARY KEY, name TEXT)\")\n",
    "cur.execute(\"CREATE TABLE orders (id INTEGER PRIMARY KEY, customer_id INTEGER, amount INTEGER)\")\n",
    "\n",
    "# Insert data\n",
    "cur.executemany(\"INSERT INTO customers VALUES (?, ?)\", [\n",
    "    (1, 'Alice'),\n",
    "    (2, 'Bob'),\n",
    "    (3, 'Clara'),\n",
    "])\n",
    "\n",
    "cur.executemany(\"INSERT INTO orders VALUES (?, ?, ?)\", [\n",
    "    (1, 1, 200),\n",
    "    (2, 1, 150),\n",
    "    (3, 2, 300),\n",
    "    (4, 3, 100),\n",
    "    (5, 2, 50),\n",
    "])\n",
    "\n",
    "conn.commit()\n",
    "\n",
    "# Run SQL\n",
    "query = \"\"\"\n",
    "SELECT c.name, SUM(o.amount) AS total_spent\n",
    "FROM customers c\n",
    "JOIN orders o ON c.id = o.customer_id\n",
    "GROUP BY c.name\n",
    "\"\"\"\n",
    "df = pd.read_sql_query(query, conn)\n",
    "print(df)\n"
   ]
  },
  {
   "cell_type": "code",
   "execution_count": 9,
   "id": "7412da0b",
   "metadata": {},
   "outputs": [],
   "source": [
    "#nly the customer(s) with the maximum total_spent.\n",
    "query = \"\"\"\n",
    "select c.name, SUM(o.amount) as total_spent\n",
    "from customers c\n",
    "join orders o on c.id = o.customer_id\n",
    "group by c.name\n",
    "having total_spent > 300\n",
    "\"\"\""
   ]
  },
  {
   "cell_type": "code",
   "execution_count": 11,
   "id": "b5d5cb8d",
   "metadata": {},
   "outputs": [
    {
     "name": "stdout",
     "output_type": "stream",
     "text": [
      "    name  total_spent\n",
      "0  Alice          350\n",
      "1    Bob          350\n"
     ]
    }
   ],
   "source": [
    "query = \"\"\"\n",
    "SELECT c.name, SUM(o.amount) AS total_spent\n",
    "FROM customers c\n",
    "JOIN orders o ON c.id = o.customer_id\n",
    "GROUP BY c.name\n",
    "HAVING SUM(o.amount) = (\n",
    "    SELECT MAX(total)\n",
    "    FROM (\n",
    "        SELECT SUM(o2.amount) AS total\n",
    "        FROM customers c2\n",
    "        JOIN orders o2 ON c2.id = o2.customer_id\n",
    "        GROUP BY c2.name\n",
    "    )\n",
    ")\n",
    "\"\"\"\n",
    "df = pd.read_sql_query(query, conn)\n",
    "print(df)\n"
   ]
  }
 ],
 "metadata": {
  "kernelspec": {
   "display_name": ".venv",
   "language": "python",
   "name": "python3"
  },
  "language_info": {
   "codemirror_mode": {
    "name": "ipython",
    "version": 3
   },
   "file_extension": ".py",
   "mimetype": "text/x-python",
   "name": "python",
   "nbconvert_exporter": "python",
   "pygments_lexer": "ipython3",
   "version": "3.12.3"
  }
 },
 "nbformat": 4,
 "nbformat_minor": 5
}
